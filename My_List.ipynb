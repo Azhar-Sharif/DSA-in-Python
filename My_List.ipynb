{
 "cells": [
  {
   "cell_type": "markdown",
   "id": "9332913d",
   "metadata": {},
   "source": [
    "#### An Array is a sequence of homogenous elements stored continous in memory\n",
    "\n",
    "#### The disadavantage is that it is fixed size and homogenous(this can be solved by doubling array or referential array)"
   ]
  },
  {
   "cell_type": "code",
   "execution_count": 69,
   "id": "9d893064",
   "metadata": {},
   "outputs": [],
   "source": [
    "import ctypes\n",
    "class MyList:\n",
    "    def __init__(self):\n",
    "        self.size = 1\n",
    "        self.n = 0\n",
    "        self.A = self.__make_arr(self.size)\n",
    "    \n",
    "    def __make_arr(self,capacity):\n",
    "        return (capacity*ctypes.py_object)()\n",
    "    \n",
    "    def __resize_arr(self,capacity):\n",
    "        B = self.__make_arr(capacity)\n",
    "        for i in range(self.n):\n",
    "            B[i] = self.A[i]\n",
    "        self.A = B\n",
    "        self.size = capacity\n",
    "\n",
    "    def __len__(self):\n",
    "        return self.n\n",
    "    \n",
    "    def __str__(self):\n",
    "        result = \"\"\n",
    "        for i in range(self.n):\n",
    "            result += str(self.A[i]) + \",\"\n",
    "        return f\"[{result[:-1]}]\"\n",
    "\n",
    "    def append(self,item):\n",
    "        if self.n==self.size:\n",
    "            self.__resize_arr(self.size*2)\n",
    "        self.A[self.n]  = item\n",
    "        self.n += 1\n",
    "\n",
    "    def find(self,item):\n",
    "        for i in range(self.n):\n",
    "            if self.A[i] == item:\n",
    "                return i\n",
    "        return \"Value Error Not in list\"\n",
    "    \n",
    "    def __getitem__(self,index):\n",
    "        if index>=0 and index<self.n:\n",
    "            return self.A[index]\n",
    "        return \"Index Error\"\n",
    "\n",
    "    def pop(self):\n",
    "        if self.n == 0:\n",
    "            return \"Empty List\"\n",
    "        \n",
    "        return self.A[self.n-1]\n",
    "\n",
    "    def clear(self):\n",
    "        self.n = 0\n",
    "        self.size = 1\n",
    "\n",
    "    def insert(self,pos,item):\n",
    "        if self.n == self.size:\n",
    "            self.__resize_arr(self.size*2)\n",
    "        for i in range(self.n,pos,-1):\n",
    "            self.A[i] = self.A[i-1]\n",
    "        self.A[pos] = item\n",
    "        self.n += 1    \n",
    "\n",
    "    def __delitem__(self,pos):\n",
    "        if pos>=0 and pos<self.n:\n",
    "            for i in range(pos,self.n-1):\n",
    "                self.A[i] = self.A[i+1]\n",
    "        self.n -= 1\n",
    "\n",
    "    def remove(self,item):\n",
    "        index = self.find(item)\n",
    "        if type(index) == int:\n",
    "            self.__delitem__(index)\n",
    "        else:\n",
    "            return f\"Not found any element \""
   ]
  },
  {
   "cell_type": "code",
   "execution_count": 65,
   "id": "4ebc31ca",
   "metadata": {},
   "outputs": [
    {
     "name": "stdout",
     "output_type": "stream",
     "text": [
      "[] 0\n",
      "[4] 1\n",
      "[4,5] 2\n"
     ]
    },
    {
     "data": {
      "text/plain": [
       "5"
      ]
     },
     "execution_count": 65,
     "metadata": {},
     "output_type": "execute_result"
    }
   ],
   "source": [
    "l1 = MyList()\n",
    "print(l1,len(l1))\n",
    "l1.append(4)\n",
    "print(l1,len(l1))\n",
    "l1.append(5)\n",
    "print(l1,len(l1))\n",
    "l1[1]\n"
   ]
  },
  {
   "cell_type": "code",
   "execution_count": null,
   "id": "c03f8945",
   "metadata": {},
   "outputs": [],
   "source": []
  },
  {
   "cell_type": "code",
   "execution_count": null,
   "id": "8b974e41",
   "metadata": {},
   "outputs": [],
   "source": []
  }
 ],
 "metadata": {
  "kernelspec": {
   "display_name": "Python 3",
   "language": "python",
   "name": "python3"
  },
  "language_info": {
   "codemirror_mode": {
    "name": "ipython",
    "version": 3
   },
   "file_extension": ".py",
   "mimetype": "text/x-python",
   "name": "python",
   "nbconvert_exporter": "python",
   "pygments_lexer": "ipython3",
   "version": "3.11.0"
  }
 },
 "nbformat": 4,
 "nbformat_minor": 5
}
